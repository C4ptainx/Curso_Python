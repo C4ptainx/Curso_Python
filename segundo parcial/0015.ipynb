{
 "cells": [
  {
   "cell_type": "code",
   "execution_count": 1,
   "metadata": {},
   "outputs": [
    {
     "ename": "TypeError",
     "evalue": "'builtin_function_or_method' object is not subscriptable",
     "output_type": "error",
     "traceback": [
      "\u001b[0;31m---------------------------------------------------------------------------\u001b[0m",
      "\u001b[0;31mTypeError\u001b[0m                                 Traceback (most recent call last)",
      "\u001b[1;32m/home/c4ptain/Deveploment/Curso_Python/segundo parcial/0015.ipynb Cell 1\u001b[0m line \u001b[0;36m4\n\u001b[1;32m      <a href='vscode-notebook-cell:/home/c4ptain/Deveploment/Curso_Python/segundo%20parcial/0015.ipynb#W0sZmlsZQ%3D%3D?line=0'>1</a>\u001b[0m \u001b[39mimport\u001b[39;00m \u001b[39mnumpy\u001b[39;00m \u001b[39mas\u001b[39;00m \u001b[39mnp\u001b[39;00m\n\u001b[1;32m      <a href='vscode-notebook-cell:/home/c4ptain/Deveploment/Curso_Python/segundo%20parcial/0015.ipynb#W0sZmlsZQ%3D%3D?line=1'>2</a>\u001b[0m \u001b[39m# diferencia numerica\u001b[39;00m\n\u001b[0;32m----> <a href='vscode-notebook-cell:/home/c4ptain/Deveploment/Curso_Python/segundo%20parcial/0015.ipynb#W0sZmlsZQ%3D%3D?line=3'>4</a>\u001b[0m y \u001b[39m=\u001b[39m np\u001b[39m.\u001b[39;49marray[\u001b[39m10\u001b[39;49m,\u001b[39m15\u001b[39;49m,\u001b[39m25\u001b[39;49m,\u001b[39m3\u001b[39;49m]\n\u001b[1;32m      <a href='vscode-notebook-cell:/home/c4ptain/Deveploment/Curso_Python/segundo%20parcial/0015.ipynb#W0sZmlsZQ%3D%3D?line=4'>5</a>\u001b[0m \u001b[39mprint\u001b[39m(y)\n\u001b[1;32m      <a href='vscode-notebook-cell:/home/c4ptain/Deveploment/Curso_Python/segundo%20parcial/0015.ipynb#W0sZmlsZQ%3D%3D?line=5'>6</a>\u001b[0m \u001b[39mprint\u001b[39m(\u001b[39m'\u001b[39m\u001b[39m'\u001b[39m)\n",
      "\u001b[0;31mTypeError\u001b[0m: 'builtin_function_or_method' object is not subscriptable"
     ]
    }
   ],
   "source": [
    "import numpy as np\n",
    "# diferencia numerica\n",
    "\n",
    "y = np.array[10,15,25,3]\n",
    "print(y)\n",
    "print('')\n",
    "z = np.diff(y)\n",
    "print(z)\n",
    "#15-10=5, 25-15\n",
    "\n",
    "y = np.array[10,15,25,5]\n",
    "print(y)\n",
    "print('')\n",
    "z = np.diff(y, n=2)\n",
    "print(z)\n",
    "#10-5=5, -20-10=30"
   ]
  }
 ],
 "metadata": {
  "kernelspec": {
   "display_name": "Python 3",
   "language": "python",
   "name": "python3"
  },
  "language_info": {
   "codemirror_mode": {
    "name": "ipython",
    "version": 3
   },
   "file_extension": ".py",
   "mimetype": "text/x-python",
   "name": "python",
   "nbconvert_exporter": "python",
   "pygments_lexer": "ipython3",
   "version": "3.11.5"
  }
 },
 "nbformat": 4,
 "nbformat_minor": 2
}
