{
 "cells": [
  {
   "cell_type": "code",
   "execution_count": null,
   "metadata": {},
   "outputs": [],
   "source": [
    "#minimo comum multiplo\n",
    "\n",
    "import numpy as np\n",
    "\n",
    "num1 = 4\n",
    "num2 = 6\n",
    "x = np.lcm(num1, num2)\n",
    "print(x)\n",
    "\n",
    "a = np.array([3,6,9])\n",
    "x= np.lcm.reduce(a)\n",
    "print(x)\n",
    "\n",
    "b = np.arange(1,11)\n",
    "print(b)\n",
    "y = np.lcm.reduce(b)\n",
    "print(y)\n",
    "\n",
    "#comun maximo\n",
    "num1 = 6 \n",
    "num2 = 9\n",
    "x = np.gcd(num1, num2)\n",
    "print(x)\n",
    "\n",
    "#gcd() en matrices\n",
    "a = np.array([20])"
   ]
  }
 ],
 "metadata": {
  "language_info": {
   "name": "python"
  }
 },
 "nbformat": 4,
 "nbformat_minor": 2
}
