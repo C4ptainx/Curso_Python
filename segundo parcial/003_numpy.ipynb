{
 "cells": [
  {
   "cell_type": "code",
   "execution_count": 1,
   "id": "261e657f",
   "metadata": {},
   "outputs": [
    {
     "name": "stdout",
     "output_type": "stream",
     "text": [
      "[100   2   3 105   5]\n",
      "[1 2 3 4 5]\n"
     ]
    }
   ],
   "source": [
    "#Copiar arreglo y vistas de arreglos\n",
    "import numpy as np\n",
    "x_original= np.array([1,2,3,4,5])\n",
    "x_copia= x_original.copy()\n",
    "\n",
    "x_original[0]=100\n",
    "x_original[3]=105\n",
    "print(x_original)\n",
    "print(x_copia)"
   ]
  },
  {
   "cell_type": "code",
   "execution_count": 2,
   "id": "d57134f2",
   "metadata": {},
   "outputs": [
    {
     "name": "stdout",
     "output_type": "stream",
     "text": [
      "[50  2  3  4  5 45 63]\n",
      "[50  2  3  4  5 45 63]\n"
     ]
    }
   ],
   "source": [
    "import numpy as np\n",
    "x_original= np.array([1,2,3,4,5,45,63])\n",
    "vista= x_original. view()\n",
    "vista[0] =50\n",
    "print(x_original)\n",
    "print(vista)\n"
   ]
  }
 ],
 "metadata": {
  "kernelspec": {
   "display_name": "Python 3 (ipykernel)",
   "language": "python",
   "name": "python3"
  },
  "language_info": {
   "codemirror_mode": {
    "name": "ipython",
    "version": 3
   },
   "file_extension": ".py",
   "mimetype": "text/x-python",
   "name": "python",
   "nbconvert_exporter": "python",
   "pygments_lexer": "ipython3",
   "version": "3.11.5"
  }
 },
 "nbformat": 4,
 "nbformat_minor": 5
}
