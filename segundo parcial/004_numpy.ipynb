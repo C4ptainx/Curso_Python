{
 "cells": [
  {
   "cell_type": "code",
   "execution_count": 1,
   "id": "a8553a46",
   "metadata": {},
   "outputs": [
    {
     "name": "stdout",
     "output_type": "stream",
     "text": [
      "[ 1  2  3  4  5  6  7  8  9 10 11 12]\n",
      "[ 1  2  3  4  5  6  7  8  9 10 11 12]\n",
      "[[ 1  2  3  4  5  6]\n",
      " [ 7  8  9 10 11 12]]\n",
      "[ 1  2  3  4  5  6  7  8  9 10 11 12]\n",
      "[[[ 1  2]\n",
      "  [ 3  4]\n",
      "  [ 5  6]]\n",
      "\n",
      " [[ 7  8]\n",
      "  [ 9 10]\n",
      "  [11 12]]]\n",
      "[1 2 3 4 5 6 7 8]\n",
      "[[[1 2]\n",
      "  [3 4]]\n",
      "\n",
      " [[5 6]\n",
      "  [7 8]]]\n"
     ]
    }
   ],
   "source": [
    "#reformacion de matrices numpy\n",
    "import numpy as np \n",
    "\n",
    "x= np.array([1,2,3,4,5,6,7,8,9,10,11,12])\n",
    "print(x)\n",
    "x= np.array([1,2,3,4,5,6,7,8,9,10,11,12])\n",
    "print(x)\n",
    "reformar= x.reshape(2,6)\n",
    "print(reformar)\n",
    "x= np.array([1,2,3,4,5,6,7,8,9,10,11,12])\n",
    "print(x)\n",
    "reformar= x.reshape(2,3,2)\n",
    "print(reformar)\n",
    "x= np.array([1,2,3,4,5,6,7,8])\n",
    "print(x)\n",
    "reformar= x.reshape(2,2,2)\n",
    "print(reformar)"
   ]
  }
 ],
 "metadata": {
  "kernelspec": {
   "display_name": "Python 3 (ipykernel)",
   "language": "python",
   "name": "python3"
  },
  "language_info": {
   "codemirror_mode": {
    "name": "ipython",
    "version": 3
   },
   "file_extension": ".py",
   "mimetype": "text/x-python",
   "name": "python",
   "nbconvert_exporter": "python",
   "pygments_lexer": "ipython3",
   "version": "3.11.5"
  }
 },
 "nbformat": 4,
 "nbformat_minor": 5
}
