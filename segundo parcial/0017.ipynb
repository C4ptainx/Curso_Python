{
 "cells": [
  {
   "cell_type": "code",
   "execution_count": 1,
   "metadata": {},
   "outputs": [
    {
     "name": "stdout",
     "output_type": "stream",
     "text": [
      "1.0\n",
      "[1.         0.8660254  0.70710678 0.58778525]\n",
      "[6.12323400e-17 5.00000000e-01 7.07106781e-01 8.09016994e-01]\n",
      "[1.57079633 3.14159265 4.71238898 6.28318531]\n"
     ]
    }
   ],
   "source": [
    "#funciones trigonometricas \n",
    "\n",
    "import numpy as np\n",
    "\n",
    "# calcuar el seno() pi/2\n",
    "# sin()\n",
    "\n",
    "x = np.sin(np.pi/2)\n",
    "print(x)\n",
    "\n",
    "a = np.array([np.pi/2,np.pi/3,np.pi/4,np.pi/5])\n",
    "x = np.sin(a)\n",
    "print(x)\n",
    "\n",
    "a = np.array([np.pi/2,np.pi/3,np.pi/4,np.pi/5])\n",
    "x = np.cos(a)\n",
    "print(x)\n",
    "\n",
    "a = np.array([90,180,270,360])\n",
    "x = np.deg2rad(a)\n",
    "print(x)\n",
    "\n",
    "\n"
   ]
  }
 ],
 "metadata": {
  "kernelspec": {
   "display_name": "Python 3",
   "language": "python",
   "name": "python3"
  },
  "language_info": {
   "codemirror_mode": {
    "name": "ipython",
    "version": 3
   },
   "file_extension": ".py",
   "mimetype": "text/x-python",
   "name": "python",
   "nbconvert_exporter": "python",
   "pygments_lexer": "ipython3",
   "version": "3.11.5"
  }
 },
 "nbformat": 4,
 "nbformat_minor": 2
}
