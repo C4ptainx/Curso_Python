{
 "cells": [
  {
   "cell_type": "code",
   "execution_count": 2,
   "id": "ffde8ce4",
   "metadata": {},
   "outputs": [
    {
     "name": "stdout",
     "output_type": "stream",
     "text": [
      "Los numeros pares del arreglo son:  [2 4 6]\n"
     ]
    }
   ],
   "source": [
    "#Alejandro Trujano Chavez\n",
    "\n",
    "import numpy as np\n",
    "\n",
    "num = np.array([1, 2, 3, 4, 5, 6, 7])\n",
    "filtro_pares = (num % 2 == 0)\n",
    "numeros_pares = num[filtro_pares]\n",
    "\n",
    "print(\"Los numeros pares del arreglo son: \", numeros_pares)"
   ]
  }
 ],
 "metadata": {
  "kernelspec": {
   "display_name": "Python 3 (ipykernel)",
   "language": "python",
   "name": "python3"
  },
  "language_info": {
   "codemirror_mode": {
    "name": "ipython",
    "version": 3
   },
   "file_extension": ".py",
   "mimetype": "text/x-python",
   "name": "python",
   "nbconvert_exporter": "python",
   "pygments_lexer": "ipython3",
   "version": "3.11.5"
  }
 },
 "nbformat": 4,
 "nbformat_minor": 5
}
