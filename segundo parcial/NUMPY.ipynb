{
 "cells": [
  {
   "cell_type": "code",
   "execution_count": 1,
   "id": "bd6c316f",
   "metadata": {},
   "outputs": [
    {
     "name": "stdout",
     "output_type": "stream",
     "text": [
      "1.26.1\n",
      "[1 2 3 4 5 6 7]\n",
      "<class 'numpy.ndarray'>\n",
      "<class 'numpy.ndarray'>\n"
     ]
    }
   ],
   "source": [
    "\"\"\"ALEJANDRO TRUJANO CHAVEZ\"\"\"\n",
    "\n",
    "import numpy as np\n",
    "print(np.__version__) #version de numpy\n",
    "\n",
    "x= np.array([1,2,3,4,5,6,7])\n",
    "print(x)\n",
    "\n",
    "x= np.array([1,2,3,4,5,6,7])\n",
    "print(type(x))\n",
    "\n",
    "y= np.array((1,2,3,4))\n",
    "print(type(y))"
   ]
  },
  {
   "cell_type": "markdown",
   "id": "1313113f",
   "metadata": {},
   "source": [
    "Visualizar vectores con numpy"
   ]
  },
  {
   "cell_type": "code",
   "execution_count": 2,
   "id": "5c49c2b4",
   "metadata": {},
   "outputs": [
    {
     "name": "stdout",
     "output_type": "stream",
     "text": [
      "[1 2 3 4 5 6 7]\n",
      "[[1 2 3]\n",
      " [4 5 6]]\n",
      "7\n",
      "[1 2 3 4]\n",
      "7\n"
     ]
    }
   ],
   "source": [
    "import numpy as np\n",
    "x= np.array([1,2,3,4,5,6,7])\n",
    "print(x)\n",
    "\n",
    "#arreglo de dos dimenciones\n",
    "x2= np.array([[1,2,3],[4,5,6]])\n",
    "print(x2)\n",
    "\n",
    "#acceder elementos de un matriz\n",
    "x= np.array([1,2,3,4,5,6,7])\n",
    "print(x[6]) #especificar el nombre del arreglo\n",
    "#posicion del indice\n",
    "\n",
    "#operaciones con arreglos\n",
    "x= np.array([1,2,3,4,])\n",
    "print(x)\n",
    "print(x[2] + x[3])"
   ]
  }
 ],
 "metadata": {
  "kernelspec": {
   "display_name": "Python 3 (ipykernel)",
   "language": "python",
   "name": "python3"
  },
  "language_info": {
   "codemirror_mode": {
    "name": "ipython",
    "version": 3
   },
   "file_extension": ".py",
   "mimetype": "text/x-python",
   "name": "python",
   "nbconvert_exporter": "python",
   "pygments_lexer": "ipython3",
   "version": "3.11.5"
  }
 },
 "nbformat": 4,
 "nbformat_minor": 5
}
