{
 "cells": [
  {
   "cell_type": "code",
   "execution_count": 1,
   "id": "a4a59cb4",
   "metadata": {},
   "outputs": [
    {
     "name": "stdout",
     "output_type": "stream",
     "text": [
      "[2 3 4 5]\n",
      "[5 6 7]\n",
      "[0 1 2 3]\n",
      "[5 6]\n",
      "[1 3]\n"
     ]
    }
   ],
   "source": [
    "#corte con numpy\n",
    "\n",
    "import numpy as np\n",
    "x= np. array([1,2,3,4,5,6,7])\n",
    "print(x[1:5])\n",
    "x1= np. array([1,2,3,4,5,6,7])\n",
    "print(x1[4:])\n",
    "x2= np. array([0,1,2,3,4,5,6,7])\n",
    "print(x2[:4])\n",
    "x3= np. array([1,2,3,4,5,6,7])\n",
    "print(x3[-3:-1])\n",
    "x4= np. array([0,1,2,3,4,5,6,7])\n",
    "print(x4[1:5:2])"
   ]
  }
 ],
 "metadata": {
  "kernelspec": {
   "display_name": "Python 3 (ipykernel)",
   "language": "python",
   "name": "python3"
  },
  "language_info": {
   "codemirror_mode": {
    "name": "ipython",
    "version": 3
   },
   "file_extension": ".py",
   "mimetype": "text/x-python",
   "name": "python",
   "nbconvert_exporter": "python",
   "pygments_lexer": "ipython3",
   "version": "3.11.5"
  }
 },
 "nbformat": 4,
 "nbformat_minor": 5
}
