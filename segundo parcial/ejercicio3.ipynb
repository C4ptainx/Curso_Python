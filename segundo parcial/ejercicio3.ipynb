{
 "cells": [
  {
   "cell_type": "code",
   "execution_count": null,
   "metadata": {},
   "outputs": [],
   "source": [
    "\"\"\"\n",
    "Alejandro Trujano Chavez\n",
    "\n",
    "Generar un filtro con python con números aleatorios con con rango de tamaño de 100 números\n",
    "usar funciones \n",
    "random()\n",
    "randint()\n",
    "y filtros usados en python  \n",
    "\n",
    "\"\"\"\n",
    "\n",
    "import random\n",
    "\n",
    "# Función para generar un número aleatorio entre 1 y 100\n",
    "def numero_aleatorio():\n",
    "    return random.randint(1, 100)\n",
    "\n",
    "# Generar una lista de 100 números aleatorios\n",
    "numeros_aleatorios = [numero_aleatorio() for _ in range(100)]\n",
    "\n",
    "# Definir un filtro (por ejemplo, números pares)\n",
    "def filtro_pares(numero):\n",
    "    return numero % 2 == 0\n",
    "\n",
    "# Aplicar el filtro a la lista de números aleatorios\n",
    "numeros_pares = list(filter(filtro_pares, numeros_aleatorios))\n",
    "\n",
    "# Imprimir los números aleatorios y los que pasaron el filtro\n",
    "print(\"Números aleatorios:\")\n",
    "print(numeros_aleatorios)\n",
    "print(\"\\nNúmeros pares:\")\n",
    "print(numeros_pares)\n"
   ]
  }
 ],
 "metadata": {
  "language_info": {
   "name": "python"
  }
 },
 "nbformat": 4,
 "nbformat_minor": 2
}
