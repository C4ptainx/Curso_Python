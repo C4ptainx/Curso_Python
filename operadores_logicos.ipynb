{
 "cells": [
  {
   "cell_type": "code",
   "execution_count": 1,
   "metadata": {},
   "outputs": [
    {
     "name": "stdout",
     "output_type": "stream",
     "text": [
      "True\n",
      "True\n",
      "False\n"
     ]
    }
   ],
   "source": [
    "\n",
    "#operadores logicos\n",
    "\n",
    "#operador and\n",
    "x = 5\n",
    "print (x > 3 and x < 10)  # Verifica si x es mayor que 3 y menor que 10, lo cual es verdadero\n",
    "\n",
    "#operador or\n",
    "x = 5\n",
    "print(x > 3 or x < 10)    # Verifica si x es mayor que 3 o menor que 10, lo cual es verdadero\n",
    "\n",
    "#operador not\n",
    "x = 5\n",
    "print(not( x > 3 and x < 10))  # Niega la expresión (x > 3 and x < 10), que es verdadera\n"
   ]
  }
 ],
 "metadata": {
  "kernelspec": {
   "display_name": "Python 3",
   "language": "python",
   "name": "python3"
  },
  "language_info": {
   "codemirror_mode": {
    "name": "ipython",
    "version": 3
   },
   "file_extension": ".py",
   "mimetype": "text/x-python",
   "name": "python",
   "nbconvert_exporter": "python",
   "pygments_lexer": "ipython3",
   "version": "3.11.5"
  },
  "orig_nbformat": 4
 },
 "nbformat": 4,
 "nbformat_minor": 2
}
