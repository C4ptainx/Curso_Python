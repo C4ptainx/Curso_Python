{
 "cells": [
  {
   "cell_type": "code",
   "execution_count": 2,
   "metadata": {},
   "outputs": [
    {
     "name": "stdout",
     "output_type": "stream",
     "text": [
      "el area del triangulo es:  552.0\n",
      "el perimetro del triangulo es:  94.0\n"
     ]
    }
   ],
   "source": [
    "#EJERCICIO ARE DE UN RECTANGULO\n",
    "\n",
    "base = float(input('ingresa la base del triangulo: '))\n",
    "altura = float(input('ingresa la alturla del triangulo'))\n",
    "area = base * altura\n",
    "perimetro = 2 * (base + altura)\n",
    "print('el area del triangulo es: ', area)\n",
    "print('el perimetro del triangulo es: ', perimetro)\n",
    "\n"
   ]
  },
  {
   "cell_type": "code",
   "execution_count": 1,
   "metadata": {},
   "outputs": [
    {
     "ename": "ImportError",
     "evalue": "libtk8.6.so: cannot open shared object file: No such file or directory",
     "output_type": "error",
     "traceback": [
      "\u001b[0;31m---------------------------------------------------------------------------\u001b[0m",
      "\u001b[0;31mImportError\u001b[0m                               Traceback (most recent call last)",
      "\u001b[1;32m/home/c4ptain/Documents/Materias/MineriaDatos/ejercicio.ipynb Cell 2\u001b[0m line \u001b[0;36m1\n\u001b[0;32m----> <a href='vscode-notebook-cell:/home/c4ptain/Documents/Materias/MineriaDatos/ejercicio.ipynb#W1sZmlsZQ%3D%3D?line=0'>1</a>\u001b[0m \u001b[39mimport\u001b[39;00m \u001b[39mturtle\u001b[39;00m\n\u001b[1;32m      <a href='vscode-notebook-cell:/home/c4ptain/Documents/Materias/MineriaDatos/ejercicio.ipynb#W1sZmlsZQ%3D%3D?line=1'>2</a>\u001b[0m \u001b[39mimport\u001b[39;00m \u001b[39mtkinter\u001b[39;00m \u001b[39mas\u001b[39;00m \u001b[39mtk\u001b[39;00m\n\u001b[1;32m      <a href='vscode-notebook-cell:/home/c4ptain/Documents/Materias/MineriaDatos/ejercicio.ipynb#W1sZmlsZQ%3D%3D?line=3'>4</a>\u001b[0m \u001b[39m# Configuración inicial\u001b[39;00m\n",
      "File \u001b[0;32m/usr/lib/python3.11/turtle.py:107\u001b[0m\n\u001b[1;32m    103\u001b[0m _ver \u001b[39m=\u001b[39m \u001b[39m\"\u001b[39m\u001b[39mturtle 1.1b- - for Python 3.1   -  4. 5. 2009\u001b[39m\u001b[39m\"\u001b[39m\n\u001b[1;32m    105\u001b[0m \u001b[39m# print(_ver)\u001b[39;00m\n\u001b[0;32m--> 107\u001b[0m \u001b[39mimport\u001b[39;00m \u001b[39mtkinter\u001b[39;00m \u001b[39mas\u001b[39;00m \u001b[39mTK\u001b[39;00m\n\u001b[1;32m    108\u001b[0m \u001b[39mimport\u001b[39;00m \u001b[39mtypes\u001b[39;00m\n\u001b[1;32m    109\u001b[0m \u001b[39mimport\u001b[39;00m \u001b[39mmath\u001b[39;00m\n",
      "File \u001b[0;32m/usr/lib/python3.11/tkinter/__init__.py:38\u001b[0m\n\u001b[1;32m     35\u001b[0m \u001b[39mimport\u001b[39;00m \u001b[39msys\u001b[39;00m\n\u001b[1;32m     36\u001b[0m \u001b[39mimport\u001b[39;00m \u001b[39mtypes\u001b[39;00m\n\u001b[0;32m---> 38\u001b[0m \u001b[39mimport\u001b[39;00m \u001b[39m_tkinter\u001b[39;00m \u001b[39m# If this fails your Python may not be configured for Tk\u001b[39;00m\n\u001b[1;32m     39\u001b[0m TclError \u001b[39m=\u001b[39m _tkinter\u001b[39m.\u001b[39mTclError\n\u001b[1;32m     40\u001b[0m \u001b[39mfrom\u001b[39;00m \u001b[39mtkinter\u001b[39;00m\u001b[39m.\u001b[39;00m\u001b[39mconstants\u001b[39;00m \u001b[39mimport\u001b[39;00m \u001b[39m*\u001b[39m\n",
      "\u001b[0;31mImportError\u001b[0m: libtk8.6.so: cannot open shared object file: No such file or directory"
     ]
    }
   ],
   "source": [
    "import turtle\n",
    "import tkinter as tk\n",
    "\n",
    "# Configuración inicial\n",
    "window = turtle.Screen()\n",
    "window.bgcolor(\"white\")\n",
    "\n",
    "def draw_flower():\n",
    "    # Crea un objeto Turtle\n",
    "    flower = turtle.Turtle()\n",
    "    flower.shape(\"turtle\")\n",
    "    flower.color(\"red\")\n",
    "    flower.speed(10)\n",
    "\n",
    "    # Dibuja los pétalos de la flor\n",
    "    for _ in range(36):\n",
    "        flower.forward(100)\n",
    "        flower.right(45)\n",
    "        flower.forward(100)\n",
    "        flower.right(135)\n",
    "\n",
    "    # Dibuja el centro de la flor\n",
    "    flower.color(\"yellow\")\n",
    "    flower.goto(0, -100)\n",
    "    flower.dot(100)\n",
    "\n",
    "    # Cierra la ventana al hacer clic\n",
    "    window.exitonclick()\n",
    "\n",
    "# Dibuja la flor\n",
    "draw_flower()"
   ]
  }
 ],
 "metadata": {
  "kernelspec": {
   "display_name": "Python 3",
   "language": "python",
   "name": "python3"
  },
  "language_info": {
   "codemirror_mode": {
    "name": "ipython",
    "version": 3
   },
   "file_extension": ".py",
   "mimetype": "text/x-python",
   "name": "python",
   "nbconvert_exporter": "python",
   "pygments_lexer": "ipython3",
   "version": "3.11.5"
  },
  "orig_nbformat": 4
 },
 "nbformat": 4,
 "nbformat_minor": 2
}
