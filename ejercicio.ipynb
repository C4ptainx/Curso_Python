{
 "cells": [
  {
   "cell_type": "code",
   "execution_count": 2,
   "metadata": {},
   "outputs": [
    {
     "name": "stdout",
     "output_type": "stream",
     "text": [
      "el area del triangulo es:  552.0\n",
      "el perimetro del triangulo es:  94.0\n"
     ]
    }
   ],
   "source": [
    "#EJERCICIO ARE DE UN RECTANGULO\n",
    "\n",
    "base = float(input('ingresa la base del triangulo: '))\n",
    "altura = float(input('ingresa la alturla del triangulo'))\n",
    "area = base * altura\n",
    "perimetro = 2 * (base + altura)\n",
    "print('el area del triangulo es: ', area)\n",
    "print('el perimetro del triangulo es: ', perimetro)\n",
    "\n"
   ]
  }
 ],
 "metadata": {
  "kernelspec": {
   "display_name": "Python 3",
   "language": "python",
   "name": "python3"
  },
  "language_info": {
   "codemirror_mode": {
    "name": "ipython",
    "version": 3
   },
   "file_extension": ".py",
   "mimetype": "text/x-python",
   "name": "python",
   "nbconvert_exporter": "python",
   "pygments_lexer": "ipython3",
   "version": "3.11.5"
  },
  "orig_nbformat": 4
 },
 "nbformat": 4,
 "nbformat_minor": 2
}
