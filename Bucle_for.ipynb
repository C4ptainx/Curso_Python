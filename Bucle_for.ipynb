{
 "cells": [
  {
   "cell_type": "code",
   "execution_count": null,
   "metadata": {},
   "outputs": [],
   "source": [
    "#bucle for\n",
    "frutas = ['manzana', 'platano', 'cereza', 'uva', 'melon']\n",
    "print(frutas)\n",
    "\n",
    "frutas = ['manzana', 'platano', 'cereza', 'uva', 'melon']\n",
    "for x in frutas:\n",
    "    print(x)\n",
    "\n",
    "frutas = ['manzana', 'platano', 'cereza', 'uva', 'melon']\n",
    "for x in frutas:\n",
    "    print(x)\n",
    "    if x == 'cereza':\n",
    "        break\n",
    "\n",
    "frutas = ['manzana', 'platano', 'cereza', 'uva', 'melon']\n",
    "for x in frutas:\n",
    "    if x == 'cereza':\n",
    "        break\n",
    "    print(x)\n",
    "\n",
    "#continue\n",
    "frutas = ['manzana', 'platano', 'cereza', 'uva', 'melon']\n",
    "for x in frutas:\n",
    "    if x == 'cereza':\n",
    "        continue\n",
    "    print(x)\n",
    "\n",
    "#funcion rango\n",
    "for x in range(10):\n",
    "    print(x)\n",
    "\n",
    "#usando parametros\n",
    "for x in range(5,10):\n",
    "    print(x)\n",
    "\n",
    "#tres parametros\n",
    "for x in range (2,20,2):\n",
    "    print(x)\n",
    "\n",
    "#bucles anidados\n",
    "frutas = ['manzana', 'platano', 'cereza', 'uva', 'melon']\n",
    "verduras = ['zanahoria', 'tomate', 'papa', 'col', 'brocoli']\n",
    "for x in frutas:\n",
    "    for y in verduras:\n",
    "        print(x, y)\n",
    "        "
   ]
  }
 ],
 "metadata": {
  "language_info": {
   "name": "python"
  },
  "orig_nbformat": 4
 },
 "nbformat": 4,
 "nbformat_minor": 2
}
