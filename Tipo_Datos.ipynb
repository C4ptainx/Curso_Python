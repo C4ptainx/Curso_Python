{
 "cells": [
  {
   "cell_type": "code",
   "execution_count": null,
   "metadata": {},
   "outputs": [],
   "source": [
    "\"\"\"----------------------Tipos de Datos----------------------\"\"\"\n",
    "\n",
    "#DECLARAMOS LAS VARIABLES \n",
    "x = 'hola mundo'\n",
    "\"\"\"\n",
    "MANDAMOS A IMPRIMIR LA VARIABLE,\n",
    "DENTRO DEL PRINT VAMOS A PONER LA PALABRA TYPE(NOMBRE_VARIABLE),\n",
    "CON EL TYPE NOS DIRA QUE TIPO DE DATO ES ESA VARIABLE YA SEA\n",
    "TIPO(INT, BOOL, STRING)\n",
    "\"\"\"\n",
    "print(x)\n",
    "print(type(x))\n",
    "\n",
    "y = 34\n",
    "print(y)\n",
    "print(type(y))\n",
    "\n",
    "pi = 3.1415\n",
    "print(pi)\n",
    "print(type(pi))\n",
    "\n",
    "t = True\n",
    "print(t)\n",
    "print(type(t))\n",
    "\n",
    "variable = 1 > 2\n",
    "print(variable)\n",
    "#HACEMOS UN CONDICIONAL IF PARA SABER SI LA VARIABLE ES VERDADERA O FALSA\n",
    "if variable:\n",
    "    print('el resultado es verdadero')\n",
    "else:\n",
    "    print('el resultado es falso')"
   ]
  }
 ],
 "metadata": {
  "language_info": {
   "name": "python"
  },
  "orig_nbformat": 4
 },
 "nbformat": 4,
 "nbformat_minor": 2
}
