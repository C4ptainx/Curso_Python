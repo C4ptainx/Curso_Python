{
 "cells": [
  {
   "cell_type": "code",
   "execution_count": 1,
   "metadata": {},
   "outputs": [
    {
     "name": "stdout",
     "output_type": "stream",
     "text": [
      "['cereza', 'manzana', 'melon', 'pina', 'platano', 'uva']\n",
      "[0.1, 2, 4, 4.6, 5, 6.8, 35, 76]\n",
      "['uva', 'platano', 'pina', 'melon', 'manzana', 'cereza']\n",
      "[76, 35, 6.8, 5, 4.6, 4, 2, 0.1]\n",
      "['Manzana', 'Platano', 'cereza', 'melon', 'pina', 'uva']\n",
      "['Manzana', 'Melon', 'Platano', 'cereza', 'pina', 'uva']\n",
      "['cereza', 'Manzana', 'Melon', 'pina', 'Platano', 'uva']\n"
     ]
    }
   ],
   "source": [
    "# --------------Orden Listas -------------\n",
    "# Ordena la lista en orden ascendente.\n",
    "lista = ['manzana', 'uva', 'cereza', 'platano', 'pina', 'melon']\n",
    "lista.sort()\n",
    "print(lista)\n",
    "\n",
    "# Ordena una lista de números en orden ascendente.\n",
    "numeros = [2, 4, 35, 5, 76, 4.6, 6.8, 0.1]\n",
    "numeros.sort()\n",
    "print(numeros)\n",
    "\n",
    "# Ordena la lista en orden descendente.\n",
    "lista = ['manzana', 'uva', 'cereza', 'platano', 'pina', 'melon']\n",
    "lista.sort(reverse=True)\n",
    "print(lista)\n",
    "\n",
    "# Ordena una lista de números en orden descendente.\n",
    "numeros = [2, 4, 35, 5, 76, 4.6, 6.8, 0.1]\n",
    "numeros.sort(reverse=True)\n",
    "print(numeros)\n",
    "\n",
    "# Ordena la lista en orden ascendente (insensible a mayúsculas/minúsculas).\n",
    "lista = ['Manzana', 'uva', 'cereza', 'Platano', 'pina', 'melon']\n",
    "lista.sort()\n",
    "print(lista)\n",
    "\n",
    "# Ordena la lista en orden ascendente (insensible a mayúsculas/minúsculas).\n",
    "lista = ['Manzana', 'uva', 'cereza', 'Platano', 'pina', 'Melon']\n",
    "lista.sort()\n",
    "print(lista)\n",
    "\n",
    "# Ordena la lista en orden ascendente (insensible a mayúsculas/minúsculas).\n",
    "lista = ['Manzana', 'uva', 'cereza', 'Platano', 'pina', 'Melon']\n",
    "lista.sort(key=str.lower)\n",
    "print(lista)"
   ]
  }
 ],
 "metadata": {
  "kernelspec": {
   "display_name": "Python 3",
   "language": "python",
   "name": "python3"
  },
  "language_info": {
   "codemirror_mode": {
    "name": "ipython",
    "version": 3
   },
   "file_extension": ".py",
   "mimetype": "text/x-python",
   "name": "python",
   "nbconvert_exporter": "python",
   "pygments_lexer": "ipython3",
   "version": "3.11.5"
  },
  "orig_nbformat": 4
 },
 "nbformat": 4,
 "nbformat_minor": 2
}
