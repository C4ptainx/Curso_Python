{
 "cells": [
  {
   "cell_type": "code",
   "execution_count": 1,
   "metadata": {},
   "outputs": [
    {
     "name": "stdout",
     "output_type": "stream",
     "text": [
      "piña\n",
      "['platano', 'cereza']\n",
      "['manzana', 'platano', 'cereza']\n",
      "['cereza', 'piña', 'naranja']\n",
      "['manzana', 'melon', 'cereza', 'piña', 'naranja']\n",
      "['manzana', 'sandi', 'mango', 'piña', 'naranja']\n"
     ]
    }
   ],
   "source": [
    "#---------------Acceso a listas ----------------------\n",
    "#----------Alejandro Trujano Chavez--------------------\n",
    "# indices negativo\n",
    "\n",
    "# Creación de una lista\n",
    "milista = [ 'manzana', 'platano', 'cereza', 'piña', 'naranja' ]\n",
    "# Imprime el penúltimo elemento de la lista (índice -2).\n",
    "print (milista[-2])\n",
    "\n",
    "# acceso con rangos\n",
    "milista = [ 'manzana', 'platano', 'cereza', 'piña', 'naranja' ]\n",
    "# Imprime los elementos en los índices 1 y 2 (cereza y piña).\n",
    "print (milista[1:3] )\n",
    "\n",
    "milista = [ 'manzana', 'platano', 'cereza', 'piña', 'naranja' ]\n",
    "# Imprime los elementos desde el inicio hasta el índice 2\n",
    "print (milista[:3] )\n",
    "\n",
    "milista = [ 'manzana', 'platano', 'cereza', 'piña', 'naranja' ]\n",
    "# Imprime los elementos desde el índice 2 hasta el final\n",
    "print (milista[2:] )\n",
    "\n",
    "#cambiar valores de las listas\n",
    "milista = [ 'manzana', 'platano', 'cereza', 'piña', 'naranja' ]\n",
    "# Cambiar el valor de un elemento en la lista.\n",
    "milista [1] = 'melon'\n",
    "# Imprime la lista actualizada.\n",
    "print (milista)\n",
    "\n",
    "#cambiar cambiar mas de un valor\n",
    "milista = [ 'manzana', 'platano', 'cereza', 'piña', 'naranja' ]\n",
    "# Cambiar varios valores en la lista.\n",
    "milista [1:3] = 'sandi', 'mango'\n",
    "# Imprime la lista actualizada.\n",
    "print (milista)"
   ]
  }
 ],
 "metadata": {
  "kernelspec": {
   "display_name": "Python 3",
   "language": "python",
   "name": "python3"
  },
  "language_info": {
   "codemirror_mode": {
    "name": "ipython",
    "version": 3
   },
   "file_extension": ".py",
   "mimetype": "text/x-python",
   "name": "python",
   "nbconvert_exporter": "python",
   "pygments_lexer": "ipython3",
   "version": "3.11.5"
  },
  "orig_nbformat": 4
 },
 "nbformat": 4,
 "nbformat_minor": 2
}
