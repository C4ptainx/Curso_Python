{
 "cells": [
  {
   "cell_type": "code",
   "execution_count": null,
   "metadata": {},
   "outputs": [],
   "source": [
    "\"\"\"-------------------------Operadores Aritmeticos------------------\"\"\"\n",
    "#SE DECLARAN LAS VARIABLES OPERADORA Y OPERADORB \n",
    "operadorA = 3\n",
    "operadorb = 2\n",
    "\n",
    "#REALIZAMOS LA OPERACION SUMA\n",
    "suma = operadorA + operadorb\n",
    "#MANDAMOS A IMPRIMIR EL RESULTADO DE SUMA CON UN MENSAJE \n",
    "print('el resultado de la suma es: ', suma)\n",
    "print(f'el resultado de la suma es: {suma}')\n",
    "\n",
    "#REALIZAMOS LA OPERACION RESTA\n",
    "resta = operadorA - operadorb\n",
    "#MANDAMOS A IMPRIMIR EL RESULTADO DE RESTA CON UN MENSAJE \n",
    "print('el resultado de la resta es: ', resta)\n",
    "print(f'el resultado de la resta es: {resta}')\n",
    "\n",
    "#REALIZAMOS LA OPERACION MULTIPLICACION\n",
    "multiplicacion = operadorA * operadorb\n",
    "#MANDAMOS A IMPRIMIR EL RESULTADO DE MULTIPLICACION CON UN MENSAJE \n",
    "print('el resultado de la multiplicacion es: ', multiplicacion)\n",
    "print(f'el resultado de la multiplicacion es: {multiplicacion}')\n",
    "\n",
    "#REALIZAMOS LA OPERACION DIVISION\n",
    "div = operadorA / operadorb\n",
    "#MANDAMOS A IMPRIMIR EL RESULTADO DE DIVISION CON UN MENSAJE \n",
    "print('el resultado de la division es: ', div)\n",
    "print(f'el resultado de la division es: {div}')\n",
    "\n",
    "#REALIZAMOS LA OPERACION MODULO\n",
    "mod = operadorA % operadorb\n",
    "#MANDAMOS A IMPRIMIR EL RESULTADO DE MODULO CON UN MENSAJE \n",
    "print('el resultado del modulo es: ', mod)\n",
    "print(f'el resultado del modulo es: {mod}')"
   ]
  }
 ],
 "metadata": {
  "language_info": {
   "name": "python"
  },
  "orig_nbformat": 4
 },
 "nbformat": 4,
 "nbformat_minor": 2
}
