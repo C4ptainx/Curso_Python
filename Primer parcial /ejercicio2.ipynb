{
 "cells": [
  {
   "cell_type": "code",
   "execution_count": 1,
   "metadata": {},
   "outputs": [
    {
     "name": "stdout",
     "output_type": "stream",
     "text": [
      "Bienvenido\n",
      "opcion seleccionada:  1\n",
      "1. Suma\n",
      "2. Resta\n",
      "3. Multiplicacion\n",
      "4. Division\n",
      "5. regresar al menu\n",
      "6. Salir\n",
      "El resultado de la suma es:  50.0\n",
      "Bienvenido\n",
      "opcion seleccionada:  2\n",
      "1. Suma\n",
      "2. Resta\n",
      "3. Multiplicacion\n",
      "4. Division\n",
      "5. regresar al menu\n",
      "6. Salir\n"
     ]
    },
    {
     "ename": "ValueError",
     "evalue": "could not convert string to float: ''",
     "output_type": "error",
     "traceback": [
      "\u001b[0;31m---------------------------------------------------------------------------\u001b[0m",
      "\u001b[0;31mValueError\u001b[0m                                Traceback (most recent call last)",
      "\u001b[1;32m/home/c4ptain/Documents/Materias/MineriaDatos/ejercicio2.ipynb Cell 1\u001b[0m line \u001b[0;36m5\n\u001b[1;32m     <a href='vscode-notebook-cell:/home/c4ptain/Documents/Materias/MineriaDatos/ejercicio2.ipynb#W0sZmlsZQ%3D%3D?line=52'>53</a>\u001b[0m \u001b[39mdef\u001b[39;00m \u001b[39msalir\u001b[39m():\n\u001b[1;32m     <a href='vscode-notebook-cell:/home/c4ptain/Documents/Materias/MineriaDatos/ejercicio2.ipynb#W0sZmlsZQ%3D%3D?line=53'>54</a>\u001b[0m     exit()\n\u001b[0;32m---> <a href='vscode-notebook-cell:/home/c4ptain/Documents/Materias/MineriaDatos/ejercicio2.ipynb#W0sZmlsZQ%3D%3D?line=55'>56</a>\u001b[0m menu_opciones()\n",
      "\u001b[1;32m/home/c4ptain/Documents/Materias/MineriaDatos/ejercicio2.ipynb Cell 1\u001b[0m line \u001b[0;36m1\n\u001b[1;32m     <a href='vscode-notebook-cell:/home/c4ptain/Documents/Materias/MineriaDatos/ejercicio2.ipynb#W0sZmlsZQ%3D%3D?line=11'>12</a>\u001b[0m \u001b[39mprint\u001b[39m(\u001b[39m\"\u001b[39m\u001b[39m5. regresar al menu\u001b[39m\u001b[39m\"\u001b[39m)\n\u001b[1;32m     <a href='vscode-notebook-cell:/home/c4ptain/Documents/Materias/MineriaDatos/ejercicio2.ipynb#W0sZmlsZQ%3D%3D?line=12'>13</a>\u001b[0m \u001b[39mprint\u001b[39m(\u001b[39m\"\u001b[39m\u001b[39m6. Salir\u001b[39m\u001b[39m\"\u001b[39m)\n\u001b[0;32m---> <a href='vscode-notebook-cell:/home/c4ptain/Documents/Materias/MineriaDatos/ejercicio2.ipynb#W0sZmlsZQ%3D%3D?line=13'>14</a>\u001b[0m \u001b[39mif\u001b[39;00m options \u001b[39m==\u001b[39m \u001b[39m1\u001b[39m : suma()\n\u001b[1;32m     <a href='vscode-notebook-cell:/home/c4ptain/Documents/Materias/MineriaDatos/ejercicio2.ipynb#W0sZmlsZQ%3D%3D?line=14'>15</a>\u001b[0m \u001b[39melif\u001b[39;00m options \u001b[39m==\u001b[39m \u001b[39m2\u001b[39m : resta()\n\u001b[1;32m     <a href='vscode-notebook-cell:/home/c4ptain/Documents/Materias/MineriaDatos/ejercicio2.ipynb#W0sZmlsZQ%3D%3D?line=15'>16</a>\u001b[0m \u001b[39melif\u001b[39;00m options \u001b[39m==\u001b[39m \u001b[39m3\u001b[39m : multiplicacion()\n",
      "\u001b[1;32m/home/c4ptain/Documents/Materias/MineriaDatos/ejercicio2.ipynb Cell 1\u001b[0m line \u001b[0;36m2\n\u001b[1;32m     <a href='vscode-notebook-cell:/home/c4ptain/Documents/Materias/MineriaDatos/ejercicio2.ipynb#W0sZmlsZQ%3D%3D?line=24'>25</a>\u001b[0m result \u001b[39m=\u001b[39m num1 \u001b[39m+\u001b[39m num2\n\u001b[1;32m     <a href='vscode-notebook-cell:/home/c4ptain/Documents/Materias/MineriaDatos/ejercicio2.ipynb#W0sZmlsZQ%3D%3D?line=25'>26</a>\u001b[0m \u001b[39mprint\u001b[39m(\u001b[39m\"\u001b[39m\u001b[39mEl resultado de la suma es: \u001b[39m\u001b[39m\"\u001b[39m, result)\n\u001b[0;32m---> <a href='vscode-notebook-cell:/home/c4ptain/Documents/Materias/MineriaDatos/ejercicio2.ipynb#W0sZmlsZQ%3D%3D?line=26'>27</a>\u001b[0m menu_opciones()\n",
      "\u001b[1;32m/home/c4ptain/Documents/Materias/MineriaDatos/ejercicio2.ipynb Cell 1\u001b[0m line \u001b[0;36m1\n\u001b[1;32m     <a href='vscode-notebook-cell:/home/c4ptain/Documents/Materias/MineriaDatos/ejercicio2.ipynb#W0sZmlsZQ%3D%3D?line=12'>13</a>\u001b[0m \u001b[39mprint\u001b[39m(\u001b[39m\"\u001b[39m\u001b[39m6. Salir\u001b[39m\u001b[39m\"\u001b[39m)\n\u001b[1;32m     <a href='vscode-notebook-cell:/home/c4ptain/Documents/Materias/MineriaDatos/ejercicio2.ipynb#W0sZmlsZQ%3D%3D?line=13'>14</a>\u001b[0m \u001b[39mif\u001b[39;00m options \u001b[39m==\u001b[39m \u001b[39m1\u001b[39m : suma()\n\u001b[0;32m---> <a href='vscode-notebook-cell:/home/c4ptain/Documents/Materias/MineriaDatos/ejercicio2.ipynb#W0sZmlsZQ%3D%3D?line=14'>15</a>\u001b[0m \u001b[39melif\u001b[39;00m options \u001b[39m==\u001b[39m \u001b[39m2\u001b[39m : resta()\n\u001b[1;32m     <a href='vscode-notebook-cell:/home/c4ptain/Documents/Materias/MineriaDatos/ejercicio2.ipynb#W0sZmlsZQ%3D%3D?line=15'>16</a>\u001b[0m \u001b[39melif\u001b[39;00m options \u001b[39m==\u001b[39m \u001b[39m3\u001b[39m : multiplicacion()\n\u001b[1;32m     <a href='vscode-notebook-cell:/home/c4ptain/Documents/Materias/MineriaDatos/ejercicio2.ipynb#W0sZmlsZQ%3D%3D?line=16'>17</a>\u001b[0m \u001b[39melif\u001b[39;00m options \u001b[39m==\u001b[39m \u001b[39m4\u001b[39m : division()\n",
      "\u001b[1;32m/home/c4ptain/Documents/Materias/MineriaDatos/ejercicio2.ipynb Cell 1\u001b[0m line \u001b[0;36m3\n\u001b[1;32m     <a href='vscode-notebook-cell:/home/c4ptain/Documents/Materias/MineriaDatos/ejercicio2.ipynb#W0sZmlsZQ%3D%3D?line=28'>29</a>\u001b[0m \u001b[39mdef\u001b[39;00m \u001b[39mresta\u001b[39m():\n\u001b[0;32m---> <a href='vscode-notebook-cell:/home/c4ptain/Documents/Materias/MineriaDatos/ejercicio2.ipynb#W0sZmlsZQ%3D%3D?line=29'>30</a>\u001b[0m     num1 \u001b[39m=\u001b[39m \u001b[39mfloat\u001b[39;49m(\u001b[39minput\u001b[39;49m(\u001b[39m\"\u001b[39;49m\u001b[39mingrese el primer numero\u001b[39;49m\u001b[39m\"\u001b[39;49m))\n\u001b[1;32m     <a href='vscode-notebook-cell:/home/c4ptain/Documents/Materias/MineriaDatos/ejercicio2.ipynb#W0sZmlsZQ%3D%3D?line=30'>31</a>\u001b[0m     num2 \u001b[39m=\u001b[39m \u001b[39mfloat\u001b[39m(\u001b[39minput\u001b[39m(\u001b[39m\"\u001b[39m\u001b[39mingrese el segundo numero\u001b[39m\u001b[39m\"\u001b[39m))\n\u001b[1;32m     <a href='vscode-notebook-cell:/home/c4ptain/Documents/Materias/MineriaDatos/ejercicio2.ipynb#W0sZmlsZQ%3D%3D?line=32'>33</a>\u001b[0m     result \u001b[39m=\u001b[39m num1 \u001b[39m-\u001b[39m num2\n",
      "\u001b[0;31mValueError\u001b[0m: could not convert string to float: ''"
     ]
    }
   ],
   "source": [
    "#ejercicio \n",
    "#Alejandro Trujano Chavez\n",
    "#hacer un menu con las cuatro operaciones fundamentales\n",
    "\n",
    "def menu_opciones():\n",
    "    print(\"Bienvenido\")\n",
    "    options = int(input (\"Seleccione una opcion\"))\n",
    "    print(\"opcion seleccionada: \", options)\n",
    "    print(\"1. Suma\")\n",
    "    print(\"2. Resta\")\n",
    "    print(\"3. Multiplicacion\")\n",
    "    print(\"4. Division\")\n",
    "    print(\"5. Salir\")\n",
    "    if options == 1 : suma()\n",
    "    elif options == 2 : resta()\n",
    "    elif options == 3 : multiplicacion()\n",
    "    elif options == 4 : division()\n",
    "    elif options == 5 : salir()\n",
    "\n",
    "\n",
    "def suma():\n",
    "    num1 = float(input(\"ingrese el primer numero\"))\n",
    "    num2 = float(input(\"ingrese el segundo numero\"))\n",
    "    result = num1 + num2\n",
    "    print(\"El resultado de la suma es: \", result)\n",
    "    menu_opciones()\n",
    "\n",
    "def resta():\n",
    "    num1 = float(input(\"ingrese el primer numero\"))\n",
    "    num2 = float(input(\"ingrese el segundo numero\"))\n",
    "\n",
    "    result = num1 - num2\n",
    "    print(\"El resultado de la suma es: \", result)\n",
    "    menu_opciones()\n",
    "\n",
    "def multiplicacion():\n",
    "    num1 = float(input(\"ingrese el primer numero\"))\n",
    "    num2 = float(input(\"ingrese el segundo numero\"))\n",
    "\n",
    "    result = num1 * num2\n",
    "    print(\"El resultado de la suma es: \", result)\n",
    "    menu_opciones()\n",
    "\n",
    "def division():\n",
    "    num1 = float(input(\"ingrese el primer numero\"))\n",
    "    num2 = float(input(\"ingrese el segundo numero\"))\n",
    "\n",
    "    result = num1 / num2\n",
    "    print(\"El resultado de la suma es: \", result)\n",
    "    menu_opciones()\n",
    "\n",
    "def salir():\n",
    "    exit()\n",
    "\n",
    "menu_opciones()"
   ]
  },
  {
   "cell_type": "markdown",
   "metadata": {},
   "source": []
  }
 ],
 "metadata": {
  "kernelspec": {
   "display_name": "Python 3",
   "language": "python",
   "name": "python3"
  },
  "language_info": {
   "codemirror_mode": {
    "name": "ipython",
    "version": 3
   },
   "file_extension": ".py",
   "mimetype": "text/x-python",
   "name": "python",
   "nbconvert_exporter": "python",
   "pygments_lexer": "ipython3",
   "version": "3.11.5"
  },
  "orig_nbformat": 4
 },
 "nbformat": 4,
 "nbformat_minor": 2
}
