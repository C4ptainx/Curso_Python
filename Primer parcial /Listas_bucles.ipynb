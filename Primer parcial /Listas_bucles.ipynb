{
 "cells": [
  {
   "cell_type": "code",
   "execution_count": 1,
   "metadata": {},
   "outputs": [
    {
     "name": "stdout",
     "output_type": "stream",
     "text": [
      "manzana\n",
      "uva\n",
      "cereza\n",
      "platano\n",
      "pina\n",
      "melon\n",
      "manzana\n",
      "uva\n",
      "cereza\n",
      "platano\n",
      "pina\n",
      "melon\n",
      "manzana\n",
      "uva\n",
      "cereza\n",
      "platano\n",
      "pina\n",
      "melon\n"
     ]
    }
   ],
   "source": [
    "#----------------Listas y bucles-----------\n",
    "#---------Alejandro Trujano Chavez--------\n",
    "# Itera a través de los elementos de la lista e imprime cada uno.\n",
    "lista = ['manzana', 'uva', 'cereza', 'platano', 'pina', 'melon']\n",
    "for x in lista:\n",
    "    print(x)\n",
    "\n",
    "# Itera a través de los elementos de la lista utilizando un bucle for y un índice.\n",
    "lista = ['manzana', 'uva', 'cereza', 'platano', 'pina', 'melon']\n",
    "for i in range(len(lista)):\n",
    "    print(lista[i])\n",
    "\n",
    "# Itera a través de los elementos de la lista utilizando un bucle while y un índice.\n",
    "lista = ['manzana', 'uva', 'cereza', 'platano', 'pina', 'melon']\n",
    "i = 0  # Inicialización del contador.\n",
    "while i < len(lista):\n",
    "    print(lista[i])\n",
    "    i = i + 1  # Incrementa el contador en 1 en cada iteración.\n",
    "\n",
    " "
   ]
  }
 ],
 "metadata": {
  "kernelspec": {
   "display_name": "Python 3",
   "language": "python",
   "name": "python3"
  },
  "language_info": {
   "codemirror_mode": {
    "name": "ipython",
    "version": 3
   },
   "file_extension": ".py",
   "mimetype": "text/x-python",
   "name": "python",
   "nbconvert_exporter": "python",
   "pygments_lexer": "ipython3",
   "version": "3.11.5"
  },
  "orig_nbformat": 4
 },
 "nbformat": 4,
 "nbformat_minor": 2
}
