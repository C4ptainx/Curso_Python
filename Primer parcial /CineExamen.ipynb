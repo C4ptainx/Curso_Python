{
 "cells": [
  {
   "cell_type": "code",
   "execution_count": 3,
   "metadata": {},
   "outputs": [
    {
     "name": "stdout",
     "output_type": "stream",
     "text": [
      "#----------------Bienvenido a Cine Campa----------------#\n",
      "-- Numero de entradas:  4.0\n",
      "-- Dia de la semana:  domingo\n",
      "-- Tipo de entrada:  individual\n",
      "-- Precio por entrada:  8.0 €\n",
      "-- Total:  32.0 €\n",
      "-- Total con descuento:  28.8\n"
     ]
    }
   ],
   "source": [
    "def calcular_precio_entrada(num_entradas, dia_semana, tarjeta_cinecampa):\n",
    "    #se definen variable de los precios del boleto y el tipo de entrada que es individual\n",
    "    boleto_normal = 8.0\n",
    "    boleto_miercoles = 5.0\n",
    "    boleto_jueves = 11.0\n",
    "    tipo_de_entrada = \"individual\"\n",
    "    descuento_tarjeta = 0.10\n",
    "\n",
    "\n",
    "    if dia_semana == \"miercoles\":\n",
    "        total = boleto_miercoles * num_entradas\n",
    "    elif dia_semana == \"jueves\":\n",
    "        tipo_de_entrada = \"pareja\"\n",
    "        parejas = num_entradas // 2\n",
    "        individuales = num_entradas % 2\n",
    "        total_pareja = parejas * boleto_jueves\n",
    "        total_individual = individuales * boleto_normal\n",
    "        total = total_pareja + total_individual\n",
    "    else:\n",
    "        total = boleto_normal * num_entradas\n",
    "\n",
    "    if tarjeta_cinecampa == \"si\":\n",
    "        descuento = total * descuento_tarjeta\n",
    "        total_descuento = total - descuento\n",
    "    else:\n",
    "        descuento = 0\n",
    "        total_descuento = total\n",
    "\n",
    "    print(\"-- Numero de entradas: \", num_entradas)\n",
    "    print(\"-- Dia de la semana: \", dia_semana)\n",
    "    print(\"-- Tipo de entrada: \", tipo_de_entrada)\n",
    "    print(\"-- Precio por entrada: \", boleto_normal ,\"€\")\n",
    "    print(\"-- Total: \", total,\"€\")\n",
    "\n",
    "    if tarjeta_cinecampa == \"si\":\n",
    "        print(\"-- Total con descuento: \", total_descuento)\n",
    "    else:\n",
    "        print(\"No se aplica descuento\")\n",
    "\n",
    "# Solicitar datos al usuario\n",
    "num_entradas = float(input(\"Ingrese el número de entradas: \"))\n",
    "dia_semana = input(\"Ingrese el día de la semana (lunes/martes/miercoles/jueves/viernes/sabado/domingo): \").lower()\n",
    "tarjeta_cinecampa = input(\"¿Tiene la tarjeta CineCampa? (si/no): \").lower()\n",
    "\n",
    "print(\"#----------------Bienvenido a Cine Campa----------------#\")\n",
    "calcular_precio_entrada(num_entradas, dia_semana, tarjeta_cinecampa)\n"
   ]
  }
 ],
 "metadata": {
  "kernelspec": {
   "display_name": "Python 3",
   "language": "python",
   "name": "python3"
  },
  "language_info": {
   "codemirror_mode": {
    "name": "ipython",
    "version": 3
   },
   "file_extension": ".py",
   "mimetype": "text/x-python",
   "name": "python",
   "nbconvert_exporter": "python",
   "pygments_lexer": "ipython3",
   "version": "3.11.5"
  },
  "orig_nbformat": 4
 },
 "nbformat": 4,
 "nbformat_minor": 2
}
