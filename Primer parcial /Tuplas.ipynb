{
 "cells": [
  {
   "cell_type": "code",
   "execution_count": 1,
   "metadata": {},
   "outputs": [
    {
     "name": "stdout",
     "output_type": "stream",
     "text": [
      "('porche', 'ferrari', 'bmw', 'alfa_romeo', 'bocho', 'chevy')\n",
      "5\n",
      "<class 'str'>\n",
      "('porche', 'ferrari', 'bmw', 'alfa_romeo', 'bocho', 'chevy')\n",
      "<class 'tuple'>\n",
      "(1, 2, 3, 4, 5, 6)\n",
      "<class 'tuple'>\n",
      "(True, False, True, False)\n",
      "<class 'tuple'>\n",
      "('porche', 'alfa_romeo', 'bocho', 'chevy')\n",
      "<class 'tuple'>\n"
     ]
    }
   ],
   "source": [
    "#-------------------tuplas\n",
    "#_----------------Alejandro Trujano Chavez-----------\n",
    "\n",
    "# Creamos una tupla\n",
    "tupla = ('porche', 'ferrari', 'bmw', 'alfa_romeo', 'bocho', 'chevy')\n",
    "# Imprimimos la tupla\n",
    "print(tupla)\n",
    "\n",
    "# Len(), permite saber cuántos elementos tiene la tupla\n",
    "tupla = ('porche', 'ferrari', 'alfa_romeo', 'bocho', 'chevy')\n",
    "# Usamos len() para obtener la longitud (cantidad de elementos) de la tupla y la imprimimos\n",
    "print(len(tupla))\n",
    "\n",
    "# Esto no crea una tupla, ya que falta una coma para que sea una tupla de un elemento\n",
    "tupla2 = ('porche')\n",
    "# Imprimimos el tipo de tupla2, que será una cadena (str)\n",
    "print(type(tupla2))\n",
    "\n",
    " \n",
    "\n",
    "# Creamos tres tuplas diferentes\n",
    "tupla1 = ('porche', 'ferrari', 'bmw', 'alfa_romeo', 'bocho', 'chevy')\n",
    "tupla2 = (1, 2, 3, 4, 5, 6)\n",
    "tupla3 = (True, False, True, False)\n",
    "# Imprimimos cada tupla y su tipo de dato\n",
    "print(tupla1)\n",
    "print(type(tupla1))\n",
    "print(tupla2)\n",
    "print(type(tupla2))\n",
    "print(tupla3)\n",
    "print(type(tupla3))\n",
    "\n",
    " \n",
    "\n",
    "# Creamos una tupla a partir de una lista utilizando la función tuple()\n",
    "tupla1 = tuple(('porche', 'alfa_romeo', 'bocho', 'chevy'))\n",
    "# Imprimimos la tupla resultante y su tipo de dato\n",
    "print(tupla1)\n",
    "print(type(tupla1))"
   ]
  }
 ],
 "metadata": {
  "kernelspec": {
   "display_name": "Python 3",
   "language": "python",
   "name": "python3"
  },
  "language_info": {
   "codemirror_mode": {
    "name": "ipython",
    "version": 3
   },
   "file_extension": ".py",
   "mimetype": "text/x-python",
   "name": "python",
   "nbconvert_exporter": "python",
   "pygments_lexer": "ipython3",
   "version": "3.11.5"
  },
  "orig_nbformat": 4
 },
 "nbformat": 4,
 "nbformat_minor": 2
}
