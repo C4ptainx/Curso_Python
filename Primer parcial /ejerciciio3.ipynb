{
 "cells": [
  {
   "cell_type": "code",
   "execution_count": 1,
   "metadata": {},
   "outputs": [
    {
     "name": "stdout",
     "output_type": "stream",
     "text": [
      "El promedio de las tres notas es: 7.666666666666667\n"
     ]
    }
   ],
   "source": [
    "# Solicitar al usuario que ingrese las tres notas\n",
    "nota1 = float(input(\"Ingrese la primera nota: \"))\n",
    "nota2 = float(input(\"Ingrese la segunda nota: \"))\n",
    "nota3 = float(input(\"Ingrese la tercera nota: \"))\n",
    "\n",
    "# Calcular el promedio de las notas\n",
    "promedio = (nota1 + nota2 + nota3) / 3\n",
    "\n",
    "# Mostrar el resultado\n",
    "print(\"El promedio de las tres notas es:\", promedio)\n"
   ]
  }
 ],
 "metadata": {
  "kernelspec": {
   "display_name": "Python 3",
   "language": "python",
   "name": "python3"
  },
  "language_info": {
   "codemirror_mode": {
    "name": "ipython",
    "version": 3
   },
   "file_extension": ".py",
   "mimetype": "text/x-python",
   "name": "python",
   "nbconvert_exporter": "python",
   "pygments_lexer": "ipython3",
   "version": "3.11.5"
  },
  "orig_nbformat": 4
 },
 "nbformat": 4,
 "nbformat_minor": 2
}
