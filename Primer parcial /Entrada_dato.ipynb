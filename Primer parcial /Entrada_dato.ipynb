{
 "cells": [
  {
   "cell_type": "code",
   "execution_count": null,
   "metadata": {},
   "outputs": [],
   "source": [
    "\"\"\"------------------------Entrada de Datos-----------------\"\"\"\n",
    "\n",
    "#DECLARAMOS UNA VARIABLE PARA INGRESAR UN MENSAJE POR TECLADO\n",
    "entrada = input ('escribe un mensaje')\n",
    "#MANDAMOS A IMPRIMIR LA VARIABLE QUE HABIAMOS DECLARADO\n",
    "print(entrada)\n",
    "print('------------------------------')\n",
    "print('fin del programa')\n",
    "\n",
    "#CONVERSION DE DATOS TIPO STRING A NMUMERICOS\n",
    "\n",
    "\"\"\"\n",
    "DECLARAMOS DOS VARIABLES DONDE NOS MOSTRARA UN MENSAJE PARA INGRESAR UN NUMERO,\n",
    "CON int le decimos al programa que esa entrada de texto la convierta en un entero\n",
    "\"\"\"\n",
    "num1 = int(input('ingresa el primer numero'))\n",
    "num2 = int(input('ingresa el segundo numero'))\n",
    "#REALIZAMOS LA OPERACION SUMA\n",
    "suma = num1 + num2 \n",
    "#MANDAMOS A IMPRIMIR LA VARIABLE SUMA\n",
    "print('el resultado de la suma es: ', suma)"
   ]
  }
 ],
 "metadata": {
  "language_info": {
   "name": "python"
  },
  "orig_nbformat": 4
 },
 "nbformat": 4,
 "nbformat_minor": 2
}
