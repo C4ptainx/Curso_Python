{
 "cells": [
  {
   "cell_type": "code",
   "execution_count": 1,
   "metadata": {},
   "outputs": [
    {
     "name": "stdout",
     "output_type": "stream",
     "text": [
      "True\n",
      "False\n",
      "True\n",
      "False\n",
      "True\n",
      "True\n"
     ]
    }
   ],
   "source": [
    "\n",
    "#igualdad\n",
    "#definimos la variablez (x) y (y)\n",
    "x = 6\n",
    "y = 6\n",
    "#mandamosa imprimir con las variables usando operador igual\n",
    "print( x == y)\n",
    "\n",
    "#no es igual es diferente\n",
    "#definimos la variablez (x) y (y)\n",
    "x = 6\n",
    "y = 6\n",
    "#mandamosa imprimir con las variables usando operador igual, diferente\n",
    "print(x != y)\n",
    "\n",
    "#mayor que \n",
    "#definimos la variablez (x) y (y)\n",
    "x = 6\n",
    "y = 3\n",
    "#mandamosa imprimir con las variables usando operador mayor que\n",
    "print(x > y)\n",
    "\n",
    "#menor que \n",
    "#definimos la variablez (x) y (y)\n",
    "x = 6\n",
    "y = 3\n",
    "#mandamosa imprimir con las variables usando menor que\n",
    "print(x < y)\n",
    "\n",
    "#mayor igual que \n",
    "#definimos la variablez (x) y (y)\n",
    "x = 6\n",
    "y = 5\n",
    "#mandamosa imprimir con las variables usando operador mayor igual que\n",
    "print(x >= y)\n",
    "\n",
    "#menor igual que\n",
    "#definimos la variablez (x) y (y)\n",
    "\n",
    "x = 6\n",
    "y = 8\n",
    "#mandamosa imprimir con las variables usando operador menor igual que\n",
    "print(x <= y)"
   ]
  }
 ],
 "metadata": {
  "kernelspec": {
   "display_name": "Python 3",
   "language": "python",
   "name": "python3"
  },
  "language_info": {
   "codemirror_mode": {
    "name": "ipython",
    "version": 3
   },
   "file_extension": ".py",
   "mimetype": "text/x-python",
   "name": "python",
   "nbconvert_exporter": "python",
   "pygments_lexer": "ipython3",
   "version": "3.11.5"
  },
  "orig_nbformat": 4
 },
 "nbformat": 4,
 "nbformat_minor": 2
}
