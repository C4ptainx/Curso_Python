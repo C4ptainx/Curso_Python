{
 "cells": [
  {
   "cell_type": "code",
   "execution_count": 1,
   "metadata": {},
   "outputs": [
    {
     "name": "stdout",
     "output_type": "stream",
     "text": [
      "['manzana', 'uva', 'fresa']\n",
      "fresa\n",
      "fresa\n",
      "9\n",
      "['manzana', 1, 3.4, True, 'carro']\n",
      "<class 'list'>\n",
      "['manzana', 'naranja', 'cereza']\n",
      "['manzana', 'uva', 'melon', 'piña', 'naranja']\n"
     ]
    }
   ],
   "source": [
    "#-----------Listas------------#\n",
    "\n",
    "# Creamos una lista llamada mi_lista con tres elementos: 'manzana', 'uva', 'fresa'\n",
    "mi_lista = ['manzana', 'uva', 'fresa']\n",
    "# Imprimimos la lista completa\n",
    "print(mi_lista)\n",
    "\n",
    "# Accedemos al elemento en la posición 2 (índice 2) de la lista e imprimimos su valor ('fresa')\n",
    "print(mi_lista[2])\n",
    "\n",
    "# Creamos una lista más grande con nueve elementos y nuevamente accedemos al elemento en la posición 2 ('fresa')\n",
    "print(mi_lista[2])\n",
    "\n",
    "# Usamos la función len() para imprimir la longitud de la lista \n",
    "mi_lista = ['manzana', 'uva', 'fresa', 'manzana', 'uva', 'fresa', 'manzana', 'uva', 'fresa']\n",
    "print(len(mi_lista))\n",
    "\n",
    "# Creamos varias listas con diferentes tipos de elementos y las imprimimos\n",
    "frutas = ['manzana', 'uva', 'cereza']\n",
    "numero = [1, 2, 3, 4]\n",
    "listas3 = [True, False, True]\n",
    "lista4 = ['manzana', 1, 3.4, True, 'carro']\n",
    "print(lista4)\n",
    "print(type(listas3))  # Imprimimos el tipo de la lista listas3\n",
    "\n",
    "# Cambiamos el valor del segundo elemento ('platano' a 'naranja') de la lista mi_lista\n",
    "mi_lista = ['manzana', 'platano', 'cereza']\n",
    "mi_lista[1] = 'naranja'\n",
    "print(mi_lista)\n",
    "\n",
    "# Cambiamos los valores en las posiciones 1 y 2 de la lista mi_lista ('platano' y 'cereza' a 'uva' y 'melon')\n",
    "mi_lista = ['manzana', 'platano', 'cereza', 'piña', 'naranja']\n",
    "mi_lista[1:3] = 'uva', 'melon'\n",
    "print(mi_lista)\n"
   ]
  }
 ],
 "metadata": {
  "kernelspec": {
   "display_name": "Python 3",
   "language": "python",
   "name": "python3"
  },
  "language_info": {
   "codemirror_mode": {
    "name": "ipython",
    "version": 3
   },
   "file_extension": ".py",
   "mimetype": "text/x-python",
   "name": "python",
   "nbconvert_exporter": "python",
   "pygments_lexer": "ipython3",
   "version": "3.11.5"
  },
  "orig_nbformat": 4
 },
 "nbformat": 4,
 "nbformat_minor": 2
}
