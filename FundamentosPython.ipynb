{
 "cells": [
  {
   "cell_type": "code",
   "execution_count": 25,
   "metadata": {},
   "outputs": [
    {
     "name": "stdout",
     "output_type": "stream",
     "text": [
      "Hello, World\n",
      "Numero entero 34\n",
      "Numero Flotante 2.4\n",
      "suma de x , y es:  50\n",
      "multiplicacion de x , y es:  600\n",
      "resta de x , y es:  10\n",
      "Los datos de usuario son: \n",
      " Alejandro Trujano Chavez \n",
      " 5512982370 \n",
      " alejandro@test.com\n",
      "rap pop smoke\n"
     ]
    }
   ],
   "source": [
    "\"\"\"\n",
    "FUNDAMENTOS DE PYTHON \n",
    "\"\"\"\n",
    "mi_variable = 'Hello, World' \n",
    "print(mi_variable)\n",
    "\n",
    "v_numerico = 34 #aqui se esta definiendo una variable de tipo entero\n",
    "f_numerico = 2.4 #aqui se esta definiendo una variable de tipo flotante\n",
    "print(\"Numero entero\", v_numerico) #aqui se imprime la variable v_numerico\n",
    "print(\"Numero Flotante\", f_numerico) #aqui se imprime la variable f_numerico\n",
    "\n",
    "#declaramos dos variables de tipo entero\n",
    "x = 30\n",
    "y = 20\n",
    "#mandamos a imprimir las variables haciendo una operacion matematica (suma)\n",
    "print (\"suma de x , y es: \", x + y)\n",
    "#mandamos a imprimir las variables haciendo una operacion matematica (multiplicación)\n",
    "print (\"multiplicacion de x , y es: \", x * y)\n",
    "#mandamos a imprimir las variables haciendo una operacion matematica (resta)\n",
    "print (\"resta de x , y es: \", x - y)\n",
    "\n",
    "#CONCATENAR PARAMETROS\n",
    "name = 'Alejandro Trujano Chavez' #declaramos una variable name de tipo string (nombre) \n",
    "tel = 5512982370 #declaramos una variable tel de tipo int (numero de celular)\n",
    "email = 'alejandro@test.com' #declaramos una variable name de tipo string \n",
    "print('Los datos de usuario son: \\n', name, '\\n', tel, '\\n', email) #mandamos a imprimir las variables name, tel, email y concatenando las variables y un mensaje haciendo uso de una coma\n",
    "\n",
    "migrupofavorito = 'rap ' #declaramos la variable migrupofavorito de tipo String\n",
    "comentario = 'pop smoke' #declaramos la variable comentario de tipo String\n",
    "print(migrupofavorito + '' + comentario) #mandamos a imprimir las variables concatenando haciendo uso de un signo +"
   ]
  },
  {
   "cell_type": "markdown",
   "metadata": {},
   "source": [
    "#fundamentos"
   ]
  },
  {
   "cell_type": "code",
   "execution_count": 1,
   "metadata": {},
   "outputs": [
    {
     "name": "stdout",
     "output_type": "stream",
     "text": [
      "Los datos de usuario son: \n",
      " Alejandro \n",
      " 5512982370 \n",
      " alejandro@test.com\n",
      "rap pop smoke\n"
     ]
    }
   ],
   "source": [
    "name = 'Alejandro'\n",
    "tel = 5512982370\n",
    "email = 'alejandro@test.com'\n",
    "print('Los datos de usuario son: \\n', name, '\\n', tel, '\\n', email)\n",
    "\n",
    "\n",
    "migrupofavorito = 'rap '\n",
    "comentario = 'pop smoke'\n",
    "print(migrupofavorito + '' + comentario)\n",
    "\n"
   ]
  }
 ],
 "metadata": {
  "kernelspec": {
   "display_name": "Python 3",
   "language": "python",
   "name": "python3"
  },
  "language_info": {
   "codemirror_mode": {
    "name": "ipython",
    "version": 3
   },
   "file_extension": ".py",
   "mimetype": "text/x-python",
   "name": "python",
   "nbconvert_exporter": "python",
   "pygments_lexer": "ipython3",
   "version": "3.11.5"
  },
  "orig_nbformat": 4
 },
 "nbformat": 4,
 "nbformat_minor": 2
}
