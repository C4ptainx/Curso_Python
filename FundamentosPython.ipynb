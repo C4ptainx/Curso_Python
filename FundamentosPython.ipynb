{
 "cells": [
  {
   "cell_type": "code",
   "execution_count": 3,
   "metadata": {},
   "outputs": [
    {
     "name": "stdout",
     "output_type": "stream",
     "text": [
      "Hello, World\n",
      "Numero entero 34\n",
      "Numero Flotante 2.4\n",
      "suma de x , y es:  50\n",
      "multiplicacion de x , y es:  600\n",
      "resta de x , y es:  10\n",
      "Los datos de usuario son: \n",
      " Alejandro Trujano Chavez \n",
      " 5512982370 \n",
      " alejandro@test.com\n",
      "rap pop smoke\n",
      "hola mi nombre es Alejandro y mi edad es 34\n",
      "hola mi nombre es Alejandro y mi edad es 34\n"
     ]
    }
   ],
   "source": [
    "\"\"\"\n",
    "FUNDAMENTOS DE PYTHON \n",
    "\"\"\"\n",
    "mi_variable = 'Hello, World' \n",
    "print(mi_variable)\n",
    "\n",
    "v_numerico = 34 #aqui se esta definiendo una variable de tipo entero\n",
    "f_numerico = 2.4 #aqui se esta definiendo una variable de tipo flotante\n",
    "print(\"Numero entero\", v_numerico) #aqui se imprime la variable v_numerico\n",
    "print(\"Numero Flotante\", f_numerico) #aqui se imprime la variable f_numerico\n",
    "\n",
    "#declaramos dos variables de tipo entero\n",
    "x = 30\n",
    "y = 20\n",
    "#mandamos a imprimir las variables haciendo una operacion matematica (suma)\n",
    "print (\"suma de x , y es: \", x + y)\n",
    "#mandamos a imprimir las variables haciendo una operacion matematica (multiplicación)\n",
    "print (\"multiplicacion de x , y es: \", x * y)\n",
    "#mandamos a imprimir las variables haciendo una operacion matematica (resta)\n",
    "print (\"resta de x , y es: \", x - y)\n",
    "\n",
    "#CONCATENAR PARAMETROS\n",
    "name = 'Alejandro Trujano Chavez' #declaramos una variable name de tipo string (nombre) \n",
    "tel = 5512982370 #declaramos una variable tel de tipo int (numero de celular)\n",
    "email = 'alejandro@test.com' #declaramos una variable name de tipo string \n",
    "print('Los datos de usuario son: \\n', name, '\\n', tel, '\\n', email) #mandamos a imprimir las variables name, tel, email y concatenando las variables y un mensaje haciendo uso de una coma\n",
    "\n",
    "migrupofavorito = 'rap ' #declaramos la variable migrupofavorito de tipo String\n",
    "comentario = 'pop smoke' #declaramos la variable comentario de tipo String\n",
    "print(migrupofavorito + '' + comentario) #mandamos a imprimir las variables concatenando haciendo uso de un signo +\n",
    "\n",
    "#CONCATENACION USANDO FORMAT\n",
    "\n",
    "#declaramos las variables con la funcion input para que el usuario ingrese los datos por teclado\n",
    "name = input('Ingresa tu nombre')\n",
    "age = int(input('ingresa tu edad'))\n",
    "\"\"\"\n",
    "declaramos la variable template en donde pondremos un mensaje agregando corchetes, agregamos format(nombre de las variables) despues del mensaje\n",
    "la cantidad de corchetes dependera del numero de variables que se deseen imprimir \n",
    "\"\"\"\n",
    "template = 'hola mi nombre es {} y mi edad es {}'.format(name, age)\n",
    "#mandams a imprimir la variable template\n",
    "print(template)\n",
    "\"\"\"\n",
    "Otra forma de usar format es poner la letra f antes de abrir las comiilas para el texto, \n",
    "se abren y cierran corchetes para escribir el nombre de la variable ejemplo = f'hola {nombre_variable1}, soy de {nombre_variable2 }'\n",
    "\"\"\"\n",
    "template2 = f'hola mi nombre es {name} y mi edad es {age}'\n",
    "#mandams a imprimir la variable template2\n",
    "print(template2)\n"
   ]
  },
  {
   "cell_type": "markdown",
   "metadata": {},
   "source": [
    "#fundamentos"
   ]
  },
  {
   "cell_type": "code",
   "execution_count": 1,
   "metadata": {},
   "outputs": [
    {
     "name": "stdout",
     "output_type": "stream",
     "text": [
      "Los datos de usuario son: \n",
      " Alejandro \n",
      " 5512982370 \n",
      " alejandro@test.com\n",
      "rap pop smoke\n"
     ]
    }
   ],
   "source": [
    "name = 'Alejandro'\n",
    "tel = 5512982370\n",
    "email = 'alejandro@test.com'\n",
    "print('Los datos de usuario son: \\n', name, '\\n', tel, '\\n', email)\n",
    "\n",
    "\n",
    "migrupofavorito = 'rap '\n",
    "comentario = 'pop smoke'\n",
    "print(migrupofavorito + '' + comentario)\n",
    "\n"
   ]
  }
 ],
 "metadata": {
  "kernelspec": {
   "display_name": "Python 3",
   "language": "python",
   "name": "python3"
  },
  "language_info": {
   "codemirror_mode": {
    "name": "ipython",
    "version": 3
   },
   "file_extension": ".py",
   "mimetype": "text/x-python",
   "name": "python",
   "nbconvert_exporter": "python",
   "pygments_lexer": "ipython3",
   "version": "3.11.5"
  },
  "orig_nbformat": 4
 },
 "nbformat": 4,
 "nbformat_minor": 2
}
