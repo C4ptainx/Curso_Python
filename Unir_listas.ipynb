{
 "cells": [
  {
   "cell_type": "code",
   "execution_count": 1,
   "metadata": {},
   "outputs": [
    {
     "name": "stdout",
     "output_type": "stream",
     "text": [
      "['manzana', 'uva', 'cereza', 'platano', 'pina', 'melon']\n",
      "['cereza', 'platano', 'pina', 'melon', 1, 2, 3, 4, 5]\n",
      "['cereza', 'platano', 'pina', 'melon', 1, 2, 3, 4, 5]\n",
      "['cereza', 'platano', 'pina', 'melon', 1, 2, 3, 4, 5]\n"
     ]
    }
   ],
   "source": [
    "#---------Unir listas\n",
    "#---------------Alejandro Trujano Chavez\n",
    "# Creamos dos listas\n",
    "lista1 = ['manzana', 'uva']\n",
    "lista2 = ['cereza', 'platano', 'pina', 'melon']\n",
    "# Usamos el operador + para unir las listas y almacenar el resultado en lista3\n",
    "lista3 = lista1 + lista2\n",
    "# Imprimimos lista3, que contiene la unión de lista1 y lista2\n",
    "print(lista3)\n",
    "\n",
    " \n",
    "\n",
    "# Creamos dos listas nuevamente\n",
    "lista = ['cereza', 'platano', 'pina', 'melon']\n",
    "numeros = [1, 2, 3, 4, 5]\n",
    "# Usamos el operador + para unir lista y numeros y almacenar el resultado en lista3\n",
    "lista3 = lista + numeros\n",
    "# Imprimimos lista3, que contiene la unión de lista y numeros\n",
    "print(lista3)\n",
    "\n",
    " \n",
    "\n",
    "# extend() sirve para unir dos listas\n",
    "lista = ['cereza', 'platano', 'pina', 'melon']\n",
    "numeros = [1, 2, 3, 4, 5]\n",
    "# Usamos el método extend() para agregar los elementos de numeros a lista\n",
    "lista.extend(numeros)\n",
    "# Imprimimos la lista que ahora contiene los elementos de numeros\n",
    "print(lista)\n",
    "\n",
    " \n",
    "\n",
    "# Bucle para unir dos listas utilizando append\n",
    "listal = ['cereza', 'platano', 'pina', 'melon']\n",
    "lista2 = [1, 2, 3, 4, 5]\n",
    "# Iteramos a través de lista2 y usamos append() para agregar cada elemento a listal\n",
    "for x in lista2:\n",
    "    listal.append(x)\n",
    "# Imprimimos listal, que ahora contiene la unión de listal y lista2\n",
    "print(listal)"
   ]
  }
 ],
 "metadata": {
  "kernelspec": {
   "display_name": "Python 3",
   "language": "python",
   "name": "python3"
  },
  "language_info": {
   "codemirror_mode": {
    "name": "ipython",
    "version": 3
   },
   "file_extension": ".py",
   "mimetype": "text/x-python",
   "name": "python",
   "nbconvert_exporter": "python",
   "pygments_lexer": "ipython3",
   "version": "3.11.5"
  },
  "orig_nbformat": 4
 },
 "nbformat": 4,
 "nbformat_minor": 2
}
