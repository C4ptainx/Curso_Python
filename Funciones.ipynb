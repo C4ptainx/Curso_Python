{
 "cells": [
  {
   "cell_type": "code",
   "execution_count": null,
   "metadata": {},
   "outputs": [],
   "source": [
    "#funcion numero 1\n",
    "#se declara la funcion\n",
    "\n",
    "def myfunction():\n",
    "    print(\"hola\")\n",
    "\n",
    "#se invoca la funcion \n",
    "myfunction()\n",
    "\n",
    "#funciones con parametros\n",
    "print(\"ingresa tu nombre: \")\n",
    "def miNombre(name):\n",
    "    print(\"el nombre es: \", name)\n",
    "\n",
    "#varios parametros\n",
    "def datosPersonales(nombre, apellido, pais= \"Mexico\"):\n",
    "    print('Tu nombre es: ', nombre, 'Tu apellido es: ', apellido, \"Nacionalidad es: \", pais)"
   ]
  }
 ],
 "metadata": {
  "language_info": {
   "name": "python"
  },
  "orig_nbformat": 4
 },
 "nbformat": 4,
 "nbformat_minor": 2
}
