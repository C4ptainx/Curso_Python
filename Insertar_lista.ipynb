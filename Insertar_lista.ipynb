{
 "cells": [
  {
   "cell_type": "code",
   "execution_count": 1,
   "metadata": {},
   "outputs": [
    {
     "name": "stdout",
     "output_type": "stream",
     "text": [
      "['manzana', 'platano', 'uva', 'cereza']\n",
      "['manzana', 'cereza']\n",
      "['manzana', 'platano', 'cereza', 'naranja']\n",
      "['manzana', 'platano', 'cereza', 'pina']\n",
      "[]\n"
     ]
    }
   ],
   "source": [
    "#--------------insertar elementos en una lista----------\n",
    "# metodo 'insert()' coloca elmentos en una posicion dentro de la lista\n",
    "milista = ['manzana', 'platano', 'cereza']\n",
    "# Inserta 'uva' en el índice 2 de la lista\n",
    "milista.insert(2, 'uva')\n",
    "# Imprime la lista actualizada.\n",
    "print (milista)\n",
    "\n",
    "# Eliminar elemntos de una lista\n",
    "milista = ['manzana', 'platano', 'cereza']\n",
    "# Elimina 'platano' de la lista.\n",
    "milista.remove('platano')\n",
    "# Imprime la lista actualizada.\n",
    "print (milista)\n",
    "\n",
    "# eliminar elementos con pop()\n",
    "milista = ['manzana','platano','cereza', 'pina','naranja']\n",
    "# Elimina el elemento en el índice 3 (piña) de la lista.\n",
    "milista.pop(3)\n",
    "# Imprime la lista actualizada\n",
    "print (milista)\n",
    "\n",
    "milista = [ 'manzana', 'platano', 'cereza', 'pina', 'naranja']\n",
    "# Elimina el último elemento de la lista (naranja).\n",
    "milista.pop()\n",
    "# Imprime la lista actualizada.\n",
    "print (milista)\n",
    "\n",
    "milista = ['manzana', 'platano','cereza','pina','naranja']\n",
    "# Borra todos los elementos de la lista.\n",
    "milista.clear()\n",
    "# Imprime la lista vacía.\n",
    "print (milista)"
   ]
  }
 ],
 "metadata": {
  "kernelspec": {
   "display_name": "Python 3",
   "language": "python",
   "name": "python3"
  },
  "language_info": {
   "codemirror_mode": {
    "name": "ipython",
    "version": 3
   },
   "file_extension": ".py",
   "mimetype": "text/x-python",
   "name": "python",
   "nbconvert_exporter": "python",
   "pygments_lexer": "ipython3",
   "version": "3.11.5"
  },
  "orig_nbformat": 4
 },
 "nbformat": 4,
 "nbformat_minor": 2
}
