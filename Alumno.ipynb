{
 "cells": [
  {
   "cell_type": "code",
   "execution_count": 6,
   "metadata": {},
   "outputs": [
    {
     "name": "stdout",
     "output_type": "stream",
     "text": [
      "Nombre: andres\n",
      "Edad: 15\n",
      "Estado Civil: Casado\n",
      "Promedio: 7.0\n",
      "Resultado de la evaluación: Aprobado\n"
     ]
    }
   ],
   "source": [
    "# Registro de datos del alumno\n",
    "nombre = input(\"Ingrese el nombre del alumno: \")\n",
    "edad = int(input(\"Ingrese la edad del alumno: \"))\n",
    "cantidad_notas = int(input(\"Ingrese la cantidad de notas: \"))\n",
    "\n",
    "# Función para calcular el promedio\n",
    "def calcular_promedio(notas):\n",
    "    if len(notas) == 0:\n",
    "        return 0\n",
    "    suma = sum(notas)\n",
    "    promedio = suma / len(notas)\n",
    "    return promedio\n",
    "\n",
    "# Función para obtener el estado civil\n",
    "def obtener_estado_civil(codigo_estado_civil):\n",
    "    if codigo_estado_civil == 1:\n",
    "        return \"Soltero\"\n",
    "    elif codigo_estado_civil == 2:\n",
    "        return \"Casado\"\n",
    "    elif codigo_estado_civil == 3:\n",
    "        return \"Divorciado\"\n",
    "    elif codigo_estado_civil == 4:\n",
    "        return \"Viudo\"\n",
    "    else:\n",
    "        return \"Desconocido\"\n",
    "\n",
    "# Función para evaluar el promedio\n",
    "def evaluar_promedio(promedio):\n",
    "    if promedio >= 6.0:  # Cambiamos 60 a 6.0, ya que estamos en una escala de 0 a 10\n",
    "        return \"Aprobado\"\n",
    "    else:\n",
    "        return \"Reprobado\"\n",
    "\n",
    "# Función para imprimir los datos del alumno\n",
    "def imprimir_datos_alumno(nombre, edad, promedio, estado_civil, evaluacion):\n",
    "    print(f\"Nombre: {nombre}\")\n",
    "    print(f\"Edad: {edad}\")\n",
    "    print(f\"Estado Civil: {estado_civil}\")\n",
    "    print(f\"Promedio: {promedio}\")\n",
    "    print(f\"Resultado de la evaluación: {evaluacion}\")\n",
    "\n",
    "notas = []\n",
    "for i in range(cantidad_notas):\n",
    "    nota = float(input(f\"Ingrese la nota {i+1}: \"))\n",
    "    notas.append(nota)\n",
    "\n",
    "# Calcular el promedio\n",
    "promedio = calcular_promedio(notas)\n",
    "\n",
    "# Obtener el estado civil\n",
    "codigo_estado_civil = int(input(\"Ingrese el código del estado civil (1-Soltero, 2-Casado, 3-Divorciado, 4-Viudo): \"))\n",
    "estado_civil = obtener_estado_civil(codigo_estado_civil)\n",
    "\n",
    "# Evaluar el promedio\n",
    "resultado_evaluacion = evaluar_promedio(promedio)\n",
    "\n",
    "# Imprimir resultados\n",
    "imprimir_datos_alumno(nombre, edad, promedio, estado_civil, resultado_evaluacion)\n"
   ]
  },
  {
   "cell_type": "code",
   "execution_count": 2,
   "metadata": {},
   "outputs": [
    {
     "name": "stdout",
     "output_type": "stream",
     "text": [
      "hola bob\n"
     ]
    }
   ],
   "source": [
    "def saludar(nombre):\n",
    "    print(\"hola \" + nombre)\n",
    "saludar(\"Alice\", \"bob\")"
   ]
  },
  {
   "cell_type": "code",
   "execution_count": 4,
   "metadata": {},
   "outputs": [
    {
     "name": "stdout",
     "output_type": "stream",
     "text": [
      "120\n"
     ]
    }
   ],
   "source": [
    "def factorial(n):\n",
    "    if n == 0:\n",
    "        return 1\n",
    "    else:\n",
    "        return n * factorial(n-1)\n",
    "print(factorial(5)) "
   ]
  },
  {
   "cell_type": "code",
   "execution_count": 5,
   "metadata": {},
   "outputs": [
    {
     "name": "stdout",
     "output_type": "stream",
     "text": [
      "1\n",
      "2\n",
      "3\n",
      "4\n",
      "5\n"
     ]
    }
   ],
   "source": [
    "numeros = [1,2,3,4,5]\n",
    "for num in numeros:\n",
    "    print(num)"
   ]
  }
 ],
 "metadata": {
  "kernelspec": {
   "display_name": "Python 3",
   "language": "python",
   "name": "python3"
  },
  "language_info": {
   "codemirror_mode": {
    "name": "ipython",
    "version": 3
   },
   "file_extension": ".py",
   "mimetype": "text/x-python",
   "name": "python",
   "nbconvert_exporter": "python",
   "pygments_lexer": "ipython3",
   "version": "3.11.5"
  },
  "orig_nbformat": 4
 },
 "nbformat": 4,
 "nbformat_minor": 2
}
